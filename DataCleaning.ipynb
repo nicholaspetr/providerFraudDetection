{
 "cells": [
  {
   "cell_type": "code",
   "execution_count": 1,
   "id": "0f1dec44",
   "metadata": {},
   "outputs": [],
   "source": [
    "import pandas as pd\n",
    "import numpy as np\n",
    "%matplotlib inline\n",
    "import seaborn as sns\n",
    "import datetime as dt\n",
    "from matplotlib import pyplot as plt\n",
    "pd.set_option('display.max_columns', None)"
   ]
  },
  {
   "cell_type": "code",
   "execution_count": 2,
   "id": "5dea4727",
   "metadata": {},
   "outputs": [],
   "source": [
    "# Training data sets\n",
    "benef = pd.read_csv('Data/Train_Beneficiary.csv')\n",
    "inpat = pd.read_csv('Data/Train_Inpatient.csv')\n",
    "outpat = pd.read_csv('Data/Train_Outpatient.csv')\n",
    "fraud = pd.read_csv('Data/Train-Potential Fraud.csv')"
   ]
  },
  {
   "cell_type": "code",
   "execution_count": 3,
   "id": "f2406861",
   "metadata": {},
   "outputs": [],
   "source": [
    "#Create columns for inpatient and outpatient data.\n",
    "inpat['patientType'] = np.repeat('inpatient', len(inpat))\n",
    "outpat['patientType'] = np.repeat('outpatient', len(outpat))"
   ]
  },
  {
   "cell_type": "code",
   "execution_count": 4,
   "id": "719f97a9",
   "metadata": {},
   "outputs": [],
   "source": [
    "patient = pd.concat([inpat, outpat], axis=0)"
   ]
  },
  {
   "cell_type": "code",
   "execution_count": 5,
   "id": "936eafd2",
   "metadata": {},
   "outputs": [],
   "source": [
    "# Combining patient dataset with beneficiary dataset \n",
    "full_data =pd.merge(patient, benef, on='BeneID', how='left')"
   ]
  },
  {
   "cell_type": "code",
   "execution_count": 6,
   "id": "1822dcdc",
   "metadata": {},
   "outputs": [
    {
     "name": "stderr",
     "output_type": "stream",
     "text": [
      "<ipython-input-6-ea231f16d9a0>:9: FutureWarning: The default value of regex will change from True to False in a future version.\n",
      "  full_data['DaysAdmitted'] = full_data['DaysAdmitted'].str.replace('00:00:00.000000000', '')\n"
     ]
    }
   ],
   "source": [
    "# Creating DaysAdmitted Feature by substracting claim start date from claim end date \n",
    "full_data['ClaimStartDt'] = pd.to_datetime(full_data['ClaimStartDt'])\n",
    "full_data['ClaimEndDt'] = pd.to_datetime(full_data['ClaimEndDt'])\n",
    "full_data['DaysAdmitted'] = full_data['ClaimEndDt'] - full_data['ClaimStartDt']\n",
    "# Chaging DaysAdmitted into integer object \n",
    "full_data['DaysAdmitted'] = full_data['DaysAdmitted'].astype(str)\n",
    "full_data['DaysAdmitted'] = full_data['DaysAdmitted'].str.replace('days', ' ')\n",
    "\n",
    "full_data['DaysAdmitted'] = full_data['DaysAdmitted'].str.replace('00:00:00.000000000', '')\n",
    "\n",
    "full_data['DaysAdmitted'] = full_data['DaysAdmitted'].astype(int)\n",
    "\n",
    "full_data['DaysAdmitted'] = full_data['DaysAdmitted'] + 1"
   ]
  },
  {
   "cell_type": "code",
   "execution_count": 7,
   "id": "48322dbf",
   "metadata": {},
   "outputs": [],
   "source": [
    "diagnoses_cols= ['ClmDiagnosisCode_1', 'ClmDiagnosisCode_2','ClmDiagnosisCode_3', \\\n",
    "                 'ClmDiagnosisCode_4', 'ClmDiagnosisCode_5','ClmDiagnosisCode_6', \\\n",
    "                 'ClmDiagnosisCode_7', 'ClmDiagnosisCode_8','ClmDiagnosisCode_9', \\\n",
    "                 'ClmDiagnosisCode_10']\n",
    "\n",
    "procedure_cols = ['ClmProcedureCode_1','ClmProcedureCode_2', 'ClmProcedureCode_3', \\\n",
    "                  'ClmProcedureCode_4','ClmProcedureCode_5', 'ClmProcedureCode_6']\n",
    "\n",
    "full_data[\"NumDiagnoses\"] = 10 - full_data[diagnoses_cols].isnull().sum(axis=1)\n",
    "full_data[\"NumProcedures\"] = 6 - full_data[procedure_cols].isnull().sum(axis=1)"
   ]
  },
  {
   "cell_type": "code",
   "execution_count": 8,
   "id": "dc82b606",
   "metadata": {},
   "outputs": [
    {
     "data": {
      "text/plain": [
       "array(['BeneID', 'ClaimID', 'ClaimStartDt', 'ClaimEndDt', 'Provider',\n",
       "       'InscClaimAmtReimbursed', 'AttendingPhysician',\n",
       "       'OperatingPhysician', 'OtherPhysician', 'AdmissionDt',\n",
       "       'ClmAdmitDiagnosisCode', 'DeductibleAmtPaid', 'DischargeDt',\n",
       "       'DiagnosisGroupCode', 'ClmDiagnosisCode_1', 'ClmDiagnosisCode_2',\n",
       "       'ClmDiagnosisCode_3', 'ClmDiagnosisCode_4', 'ClmDiagnosisCode_5',\n",
       "       'ClmDiagnosisCode_6', 'ClmDiagnosisCode_7', 'ClmDiagnosisCode_8',\n",
       "       'ClmDiagnosisCode_9', 'ClmDiagnosisCode_10', 'ClmProcedureCode_1',\n",
       "       'ClmProcedureCode_2', 'ClmProcedureCode_3', 'ClmProcedureCode_4',\n",
       "       'ClmProcedureCode_5', 'ClmProcedureCode_6', 'patientType', 'DOB',\n",
       "       'DOD', 'Gender', 'Race', 'RenalDiseaseIndicator', 'State',\n",
       "       'County', 'NoOfMonths_PartACov', 'NoOfMonths_PartBCov',\n",
       "       'ChronicCond_Alzheimer', 'ChronicCond_Heartfailure',\n",
       "       'ChronicCond_KidneyDisease', 'ChronicCond_Cancer',\n",
       "       'ChronicCond_ObstrPulmonary', 'ChronicCond_Depression',\n",
       "       'ChronicCond_Diabetes', 'ChronicCond_IschemicHeart',\n",
       "       'ChronicCond_Osteoporasis', 'ChronicCond_rheumatoidarthritis',\n",
       "       'ChronicCond_stroke', 'IPAnnualReimbursementAmt',\n",
       "       'IPAnnualDeductibleAmt', 'OPAnnualReimbursementAmt',\n",
       "       'OPAnnualDeductibleAmt', 'DaysAdmitted', 'NumDiagnoses',\n",
       "       'NumProcedures'], dtype=object)"
      ]
     },
     "execution_count": 8,
     "metadata": {},
     "output_type": "execute_result"
    }
   ],
   "source": [
    "full_data.columns.values"
   ]
  },
  {
   "cell_type": "code",
   "execution_count": 9,
   "id": "8487ed3f",
   "metadata": {},
   "outputs": [
    {
     "data": {
      "text/plain": [
       "558211"
      ]
     },
     "execution_count": 9,
     "metadata": {},
     "output_type": "execute_result"
    }
   ],
   "source": [
    "len(full_data)"
   ]
  },
  {
   "cell_type": "code",
   "execution_count": 10,
   "id": "11332e5e",
   "metadata": {},
   "outputs": [
    {
     "data": {
      "text/plain": [
       "BeneID                                  0\n",
       "ClaimID                                 0\n",
       "ClaimStartDt                            0\n",
       "ClaimEndDt                              0\n",
       "Provider                                0\n",
       "InscClaimAmtReimbursed                  0\n",
       "AttendingPhysician                   1508\n",
       "OperatingPhysician                 443764\n",
       "OtherPhysician                     358475\n",
       "AdmissionDt                        517737\n",
       "ClmAdmitDiagnosisCode              412312\n",
       "DeductibleAmtPaid                     899\n",
       "DischargeDt                        517737\n",
       "DiagnosisGroupCode                 517737\n",
       "ClmDiagnosisCode_1                  10453\n",
       "ClmDiagnosisCode_2                 195606\n",
       "ClmDiagnosisCode_3                 315156\n",
       "ClmDiagnosisCode_4                 393675\n",
       "ClmDiagnosisCode_5                 446287\n",
       "ClmDiagnosisCode_6                 473819\n",
       "ClmDiagnosisCode_7                 492034\n",
       "ClmDiagnosisCode_8                 504767\n",
       "ClmDiagnosisCode_9                 516396\n",
       "ClmDiagnosisCode_10                553201\n",
       "ClmProcedureCode_1                 534901\n",
       "ClmProcedureCode_2                 552721\n",
       "ClmProcedureCode_3                 557242\n",
       "ClmProcedureCode_4                 558093\n",
       "ClmProcedureCode_5                 558202\n",
       "ClmProcedureCode_6                 558211\n",
       "patientType                             0\n",
       "DOB                                     0\n",
       "DOD                                554080\n",
       "Gender                                  0\n",
       "Race                                    0\n",
       "RenalDiseaseIndicator                   0\n",
       "State                                   0\n",
       "County                                  0\n",
       "NoOfMonths_PartACov                     0\n",
       "NoOfMonths_PartBCov                     0\n",
       "ChronicCond_Alzheimer                   0\n",
       "ChronicCond_Heartfailure                0\n",
       "ChronicCond_KidneyDisease               0\n",
       "ChronicCond_Cancer                      0\n",
       "ChronicCond_ObstrPulmonary              0\n",
       "ChronicCond_Depression                  0\n",
       "ChronicCond_Diabetes                    0\n",
       "ChronicCond_IschemicHeart               0\n",
       "ChronicCond_Osteoporasis                0\n",
       "ChronicCond_rheumatoidarthritis         0\n",
       "ChronicCond_stroke                      0\n",
       "IPAnnualReimbursementAmt                0\n",
       "IPAnnualDeductibleAmt                   0\n",
       "OPAnnualReimbursementAmt                0\n",
       "OPAnnualDeductibleAmt                   0\n",
       "DaysAdmitted                            0\n",
       "NumDiagnoses                            0\n",
       "NumProcedures                           0\n",
       "dtype: int64"
      ]
     },
     "execution_count": 10,
     "metadata": {},
     "output_type": "execute_result"
    }
   ],
   "source": [
    "full_data.isna().sum()"
   ]
  },
  {
   "cell_type": "code",
   "execution_count": 11,
   "id": "703805a0",
   "metadata": {},
   "outputs": [],
   "source": [
    "full_data.drop([\"DischargeDt\", \"DiagnosisGroupCode\", \"OperatingPhysician\", \"OtherPhysician\", \"AdmissionDt\", \"ClmAdmitDiagnosisCode\", \"DOD\"], axis=1, inplace=True)"
   ]
  },
  {
   "cell_type": "code",
   "execution_count": 12,
   "id": "5fc1cef6",
   "metadata": {},
   "outputs": [
    {
     "data": {
      "text/plain": [
       "BeneID                                  0\n",
       "ClaimID                                 0\n",
       "ClaimStartDt                            0\n",
       "ClaimEndDt                              0\n",
       "Provider                                0\n",
       "InscClaimAmtReimbursed                  0\n",
       "AttendingPhysician                   1508\n",
       "DeductibleAmtPaid                     899\n",
       "ClmDiagnosisCode_1                  10453\n",
       "ClmDiagnosisCode_2                 195606\n",
       "ClmDiagnosisCode_3                 315156\n",
       "ClmDiagnosisCode_4                 393675\n",
       "ClmDiagnosisCode_5                 446287\n",
       "ClmDiagnosisCode_6                 473819\n",
       "ClmDiagnosisCode_7                 492034\n",
       "ClmDiagnosisCode_8                 504767\n",
       "ClmDiagnosisCode_9                 516396\n",
       "ClmDiagnosisCode_10                553201\n",
       "ClmProcedureCode_1                 534901\n",
       "ClmProcedureCode_2                 552721\n",
       "ClmProcedureCode_3                 557242\n",
       "ClmProcedureCode_4                 558093\n",
       "ClmProcedureCode_5                 558202\n",
       "ClmProcedureCode_6                 558211\n",
       "patientType                             0\n",
       "DOB                                     0\n",
       "Gender                                  0\n",
       "Race                                    0\n",
       "RenalDiseaseIndicator                   0\n",
       "State                                   0\n",
       "County                                  0\n",
       "NoOfMonths_PartACov                     0\n",
       "NoOfMonths_PartBCov                     0\n",
       "ChronicCond_Alzheimer                   0\n",
       "ChronicCond_Heartfailure                0\n",
       "ChronicCond_KidneyDisease               0\n",
       "ChronicCond_Cancer                      0\n",
       "ChronicCond_ObstrPulmonary              0\n",
       "ChronicCond_Depression                  0\n",
       "ChronicCond_Diabetes                    0\n",
       "ChronicCond_IschemicHeart               0\n",
       "ChronicCond_Osteoporasis                0\n",
       "ChronicCond_rheumatoidarthritis         0\n",
       "ChronicCond_stroke                      0\n",
       "IPAnnualReimbursementAmt                0\n",
       "IPAnnualDeductibleAmt                   0\n",
       "OPAnnualReimbursementAmt                0\n",
       "OPAnnualDeductibleAmt                   0\n",
       "DaysAdmitted                            0\n",
       "NumDiagnoses                            0\n",
       "NumProcedures                           0\n",
       "dtype: int64"
      ]
     },
     "execution_count": 12,
     "metadata": {},
     "output_type": "execute_result"
    }
   ],
   "source": [
    "full_data.isna().sum()"
   ]
  },
  {
   "cell_type": "code",
   "execution_count": 14,
   "id": "b35aa1ae",
   "metadata": {},
   "outputs": [],
   "source": [
    "full_data = pd.merge(full_data, fraud, on = 'Provider', how = 'left')\n",
    "full_data.loc[:,'PotentialFraud'] = np.where(full_data['PotentialFraud'] == 'Yes', 1, 0)"
   ]
  },
  {
   "cell_type": "code",
   "execution_count": 15,
   "id": "4a8cb4e2",
   "metadata": {},
   "outputs": [],
   "source": [
    "full_data.to_csv(\"Merged_Data.csv\")"
   ]
  }
 ],
 "metadata": {
  "kernelspec": {
   "display_name": "Python 3",
   "language": "python",
   "name": "python3"
  },
  "language_info": {
   "codemirror_mode": {
    "name": "ipython",
    "version": 3
   },
   "file_extension": ".py",
   "mimetype": "text/x-python",
   "name": "python",
   "nbconvert_exporter": "python",
   "pygments_lexer": "ipython3",
   "version": "3.8.8"
  }
 },
 "nbformat": 4,
 "nbformat_minor": 5
}
